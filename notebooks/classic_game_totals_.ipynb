{
 "cells": [
  {
   "cell_type": "code",
   "execution_count": 4,
   "metadata": {
    "collapsed": true
   },
   "outputs": [
    {
     "name": "stderr",
     "output_type": "stream",
     "text": [
      "C:\\Users\\Ilia_\\AppData\\Local\\Temp\\ipykernel_6364\\2083512523.py:61: UserWarning: FixedFormatter should only be used together with FixedLocator\n",
      "  ax.set_yticklabels(labels)\n",
      "C:\\Users\\Ilia_\\AppData\\Local\\Temp\\ipykernel_6364\\2083512523.py:61: UserWarning: FixedFormatter should only be used together with FixedLocator\n",
      "  ax.set_yticklabels(labels)\n",
      "C:\\Users\\Ilia_\\AppData\\Local\\Temp\\ipykernel_6364\\2083512523.py:61: UserWarning: FixedFormatter should only be used together with FixedLocator\n",
      "  ax.set_yticklabels(labels)\n",
      "C:\\Users\\Ilia_\\AppData\\Local\\Temp\\ipykernel_6364\\2083512523.py:61: UserWarning: FixedFormatter should only be used together with FixedLocator\n",
      "  ax.set_yticklabels(labels)\n"
     ]
    }
   ],
   "source": [
    "\n",
    "import sys\n",
    "\n",
    "sys.path.append('../')\n",
    "\n",
    "from matplotlib.axes import Axes\n",
    "from matplotlib.figure import Figure\n",
    "import matplotlib.pyplot as plt\n",
    "from src.gamedb import offline_games_df as offline_df\n",
    "import matplotlib\n",
    "import pandas as pd\n",
    "\n",
    "fig: Figure\n",
    "axs: list[Axes]\n",
    "fig, axs = plt.subplots(4,2,figsize=(10, 20))\n",
    "\n",
    "matplotlib.rcParams['font.family'] = 'monospace'\n",
    "\n",
    "team_name = 'Давайте ещё немного подумаем'\n",
    "\n",
    "max_round_scores = [60,6,6,6,12,6,6,18]\n",
    "\n",
    "team_data:pd.DataFrame= offline_df.loc[offline_df['team_name'] == team_name]\n",
    "moving_team_average = team_data.shift(1).loc[:,'round_1':'final_score'][1:].rolling(5,min_periods=1).mean()\n",
    "\n",
    "ax:Axes\n",
    "for round_number, ax in enumerate(axs.flat):\n",
    "    is_total_score = (round_number == 0)\n",
    "    round_name = f\"round_{round_number}\" if not is_total_score else 'final_score'\n",
    "\n",
    "    ax.set_title(f\"Раунд {round_number}\")\n",
    "\n",
    "    labels = []\n",
    "\n",
    "    for idx, (ituple, row) in enumerate(team_data.iterrows()):\n",
    "        team_score = row.loc[round_name]\n",
    "        bar = ax.barh(idx, team_score, height=1.0, edgecolor='w', linewidth=1, color='green')\n",
    "        game_id = ituple[0]\n",
    "        place = ituple[1]\n",
    "        team_count = len(offline_df.loc[(game_id,),:])\n",
    "\n",
    "        date = row.loc['date']\n",
    "        location = row.loc['location']\n",
    "        question_set = row.loc['question_set']\n",
    "\n",
    "\n",
    "        if round_number % 2 == 0:\n",
    "            # place = f\"({item[0]})\"\n",
    "            place_string = f\"{place} место\"\n",
    "            teams_string = f\"{team_count} команд\"\n",
    "            labels.append(f\"№{game_id} #{question_set}    {location:<20}    {date:<30}    {teams_string:<10}    {place_string:>9}\")\n",
    "        else:\n",
    "            labels.append(place)\n",
    "        \n",
    "        if is_total_score:\n",
    "            ax.bar_label(bar)\n",
    "            ax.set_title(\"Общий счёт\")\n",
    "\n",
    "    if round_number % 2 == 0:\n",
    "        ax.set_yticklabels(labels)\n",
    "    else:\n",
    "        ax.set_ylabel('Место')\n",
    "\n",
    "    ax.plot(moving_team_average[round_name], list(range(1, len(team_data))), color='black')\n",
    "\n",
    "    ax.set_xlim(xmin=min(0, team_data[round_name].min()), xmax=max_round_scores[round_number])\n",
    "    \n",
    "    ax.set_xlabel('Количество очков')\n",
    "    ax.margins(x=1, y=0)\n",
    "    ax.invert_yaxis()\n",
    "\n",
    "    ax.set_yticks(list(range(0, len(team_data))))\n",
    "\n",
    "    \n",
    "   \n",
    "\n",
    "# polarplot(theta,rho)\n",
    "\n",
    "plt.show()\n"
   ]
  }
 ],
 "metadata": {
  "kernelspec": {
   "display_name": "Python 3",
   "language": "python",
   "name": "python3"
  },
  "language_info": {
   "codemirror_mode": {
    "name": "ipython",
    "version": 3
   },
   "file_extension": ".py",
   "mimetype": "text/x-python",
   "name": "python",
   "nbconvert_exporter": "python",
   "pygments_lexer": "ipython3",
   "version": "3.11.2"
  }
 },
 "nbformat": 4,
 "nbformat_minor": 0
}
