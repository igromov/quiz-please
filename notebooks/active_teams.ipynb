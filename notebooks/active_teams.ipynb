{
 "cells": [
  {
   "cell_type": "code",
   "execution_count": 3,
   "metadata": {
    "collapsed": true,
    "ExecuteTime": {
     "start_time": "2023-06-04T21:28:55.080336Z",
     "end_time": "2023-06-04T21:28:55.132429Z"
    }
   },
   "outputs": [],
   "source": [
    "import gamedb\n",
    "\n",
    "reset = gamedb.offline_games_df.reset_index()\n",
    "\n",
    "reset[reset['game_id'] > 49871].groupby('team_name').size().sort_values(ascending=False).reset_index()"
   ]
  }
 ],
 "metadata": {
  "kernelspec": {
   "display_name": "Python 3",
   "language": "python",
   "name": "python3"
  },
  "language_info": {
   "codemirror_mode": {
    "name": "ipython",
    "version": 2
   },
   "file_extension": ".py",
   "mimetype": "text/x-python",
   "name": "python",
   "nbconvert_exporter": "python",
   "pygments_lexer": "ipython2",
   "version": "2.7.6"
  }
 },
 "nbformat": 4,
 "nbformat_minor": 0
}
