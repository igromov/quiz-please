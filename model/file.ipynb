{
 "cells": [
  {
   "cell_type": "code",
   "execution_count": 77,
   "metadata": {
    "collapsed": true
   },
   "outputs": [
    {
     "name": "stdout",
     "output_type": "stream",
     "text": [
      ",game_id,title,place,game_id,round_1,round_2,round_3,round_4,round_5,round_6,round_7,final_score\r\n",
      "0,53576,\"Квиз, плиз! SPB #636\",5,53576,3.0,5.0,5.0,4.0,6.0,2.0,10.0,35.0\r\n",
      "1,52725,\"Квиз, плиз! SPB #629\",4,52725,4.0,4.0,4.0,4.0,6.0,2.0,10.0,34.0\r\n",
      "2,41077,\"Квиз, плиз! SPB #521\",4,41077,4.0,6.0,4.0,8.0,5.0,2.0,12.0,41.0\r\n",
      "3,40901,\"Квиз, плиз! SPB #517\",2,40901,5.0,3.0,5.0,7.0,4.0,4.0,15.0,43.0\r\n",
      "4,21245,\"Квиз, плиз! SPB #291\",3,21245,6.0,6.0,4.0,4.0,4.0,2.0,15.0,41.0\r\n",
      "5,20842,\"Квиз, плиз! SPB #287\",15,20842,5.0,5.0,2.0,5.0,5.0,6.0,10.0,38.0\r\n",
      "6,20332,\"Квиз, плиз! SPB #277\",13,20332,4.0,3.0,4.0,4.0,3.0,6.0,12.0,36.0\r\n",
      "7,20001,\"Квиз, плиз! SPB #272\",13,20001,3.0,2.0,3.0,7.0,5.0,4.0,10.0,34.0\r\n",
      "8,19347,\"Квиз, плиз! SPB #257\",22,19347,3.0,6.0,4.0,9.0,6.0,4.0,1.0,33.0\r\n",
      "9,15138,\"Квиз, плиз! SPB #250\",18,15138,3.0,5.0,4.0,8.0,4.0,6.0,3.0,33.0\r\n",
      "10,14907,\"Квиз, плиз! SPB #247\",22,14907,5.0,4.0,2.0,5.0,4.0,2.0,1.0,23.0\r\n",
      "11,14697,\"Квиз, плиз! SPB #244\",14,14697,4.0,4.0,4.0,5.0,4.0,2.0,10.0,33.0\r\n",
      "\n"
     ]
    }
   ],
   "source": [
    "import database_reader\n",
    "import pandas as pd\n",
    "\n",
    "cur, con = database_reader.load()\n",
    "\n",
    "team_name = '%Давайте ещё%'\n",
    "\n",
    "query = f\"\"\"\n",
    "SELECT game_id, title ||' #' || question_set as title,s.place,game_id,round_1,round_2,round_3,round_4,round_5,round_6,round_7,final_score\n",
    "FROM SCORES s  join GAMES g on s.game_id = g.id\n",
    "WHERE team_name like '{team_name}'\n",
    "and title like '%! SPB'\n",
    "\"\"\"\n",
    "\n",
    "\n",
    "df = pd.read_sql(query, cur)\n",
    "\n",
    "print(df.to_csv())\n",
    "\n",
    "# pd.read_sql(f\"SELECT g.title, s.* FROM SCORES s join GAMES g on s.game_id = g.id  where title = 'Квиз, плиз! SPB' order by final_score desc\", cur)\n",
    "\n",
    "# pd.read_sql(f\"SELECT * FROM SCORES WHERE game_id = 14697\", cur)\n",
    "# pd.read_sql(f\"-- SELECT g.title, s.* FROM SCORES s join GAMES g on s.game_id = g.id  where title = 'Квиз, плиз! SPB' order by final_score\", cur)\n",
    "# pd.read_sql(f\"SELECT * FROM GAMES where id = 37239\", cur)"
   ]
  }
 ],
 "metadata": {
  "kernelspec": {
   "display_name": "Python 3",
   "language": "python",
   "name": "python3"
  },
  "language_info": {
   "codemirror_mode": {
    "name": "ipython",
    "version": 2
   },
   "file_extension": ".py",
   "mimetype": "text/x-python",
   "name": "python",
   "nbconvert_exporter": "python",
   "pygments_lexer": "ipython2",
   "version": "2.7.6"
  }
 },
 "nbformat": 4,
 "nbformat_minor": 0
}
